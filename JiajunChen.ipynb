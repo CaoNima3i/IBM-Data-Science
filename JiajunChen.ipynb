{
 "cells": [
  {
   "cell_type": "markdown",
   "metadata": {},
   "source": [
    "# My Jupyter Notebook on IBM Watson Studio"
   ]
  },
  {
   "cell_type": "markdown",
   "metadata": {},
   "source": [
    "**Jiajun Chen**\n",
    "data scientist"
   ]
  },
  {
   "cell_type": "markdown",
   "metadata": {},
   "source": [
    "*I am interested in data science because I can work with numbers for the rest of my life and I don't have to face the people politics everyday. Data is pure, harmless and beautiful.*"
   ]
  },
  {
   "cell_type": "code",
   "execution_count": 6,
   "metadata": {},
   "outputs": [],
   "source": [
    "###the code below calculates how much is 4526 multiplied by 32541"
   ]
  },
  {
   "cell_type": "code",
   "execution_count": 8,
   "metadata": {},
   "outputs": [
    {
     "name": "stdout",
     "output_type": "stream",
     "text": [
      "147280566\n"
     ]
    }
   ],
   "source": [
    "x1 = 4526\n",
    "x2 = 32541\n",
    "x3 = x1 * x2\n",
    "print (x3)"
   ]
  },
  {
   "cell_type": "markdown",
   "metadata": {},
   "source": [
    "The course includes the following topics:\n",
    "    ***\n",
    "⋅⋅*Introduction - basic concepts in quantitative finance\n",
    "⋅⋅*Efficiency of financial markets: the concept and its empirical testing\n",
    "⋅⋅*Volatility modelling: ARCH and GARCH models\n",
    "\n",
    "**presence and activity at the course is mandatory**"
   ]
  }
 ],
 "metadata": {
  "kernelspec": {
   "display_name": "Python 3",
   "language": "python",
   "name": "python3"
  },
  "language_info": {
   "codemirror_mode": {
    "name": "ipython",
    "version": 3
   },
   "file_extension": ".py",
   "mimetype": "text/x-python",
   "name": "python",
   "nbconvert_exporter": "python",
   "pygments_lexer": "ipython3",
   "version": "3.6.15"
  }
 },
 "nbformat": 4,
 "nbformat_minor": 2
}
